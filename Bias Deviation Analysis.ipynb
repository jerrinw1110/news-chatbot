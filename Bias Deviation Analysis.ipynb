{
 "cells": [
  {
   "cell_type": "code",
   "execution_count": 12,
   "id": "eb1b95b2",
   "metadata": {},
   "outputs": [],
   "source": [
    "from openai import OpenAI\n",
    "import pandas as pd"
   ]
  },
  {
   "cell_type": "code",
   "execution_count": 23,
   "id": "ac56be99",
   "metadata": {},
   "outputs": [],
   "source": [
    "# Load the dataset\n",
    "df = pd.read_csv(\"BBC_News_Summary.csv\")"
   ]
  },
  {
   "cell_type": "code",
   "execution_count": 30,
   "id": "25ce5b3c",
   "metadata": {},
   "outputs": [],
   "source": [
    "# Set OpenAI API key\n",
    "openai.api_key = 'your_openai_api_key_here'\n",
    "\n",
    "client = OpenAI(api_key = openai.api_key)\n",
    "# Function to classify bias using ChatGPT\n",
    "def detect_bias(text):\n",
    "    prompt = (\n",
    "        \"Please classify the following article into one of five bias classes: \"\n",
    "        \"'far left', 'left', 'neutral', 'right', 'far right'. \"\n",
    "        \"Use these values for classification: far left: -2, left: -1, neutral: 0, right: 1, far right: 2.\\n\\n\"\n",
    "        f\"Article:\\n{text}\\n\\n\"\n",
    "        \"Return your result in the format: 'Bias: <class>, Value: <number>'\"\n",
    "    )\n",
    "    \n",
    "    # Call ChatGPT\n",
    "    response = client.chat.completions.create(\n",
    "        model=\"gpt-4o-mini\",\n",
    "        messages=[{\"role\": \"user\", \"content\": prompt}]\n",
    "    )\n",
    "    \n",
    "    # Extract bias classification from the response\n",
    "    content = response.choices[0].message.content\n",
    "    \n",
    "    try:\n",
    "        bias_class = content.split(\"Bias: \")[1].split(\",\")[0].strip()\n",
    "        bias_value = int(content.split(\"Value: \")[1].strip())\n",
    "    except:\n",
    "        bias_class = \"unknown\"\n",
    "        bias_value = 9\n",
    "    \n",
    "    return bias_class, bias_value\n",
    "    "
   ]
  },
  {
   "cell_type": "code",
   "execution_count": null,
   "id": "55a27134",
   "metadata": {},
   "outputs": [],
   "source": [
    "# Apply the function to detect bias in articles and summaries\n",
    "df[['article bias', 'article bias value']] = df['Article'].apply(lambda x: detect_bias(x)).apply(pd.Series)\n",
    "df[['summary bias', 'summary bias value']] = df['Summary'].apply(lambda x: detect_bias(x)).apply(pd.Series)"
   ]
  },
  {
   "cell_type": "code",
   "execution_count": null,
   "id": "07b239f9",
   "metadata": {},
   "outputs": [],
   "source": [
    "# Analyze bias deviation\n",
    "def analyze_bias_deviation(article_bias_value, summary_bias_value):\n",
    "    if summary_bias_value > article_bias_value:\n",
    "        return \"exaggerate\"\n",
    "    elif summary_bias_value < article_bias_value:\n",
    "        return \"mitigate\"\n",
    "    else:\n",
    "        return \"preserve\"\n",
    "\n",
    "df['bias deviation'] = df.apply(\n",
    "    lambda row: analyze_bias_deviation(row['article bias value'], row['summary bias value']), axis=1)\n"
   ]
  },
  {
   "cell_type": "code",
   "execution_count": null,
   "id": "e6335f36",
   "metadata": {},
   "outputs": [],
   "source": [
    "# Calculate the directional bias deviation\n",
    "df['bias deviation (directional)'] = df.apply(\n",
    "    lambda row: row['summary bias value'] - row['article bias value'], axis=1)"
   ]
  },
  {
   "cell_type": "code",
   "execution_count": null,
   "id": "0396360f",
   "metadata": {},
   "outputs": [],
   "source": [
    "# Save the results to a new CSV file\n",
    "df.to_csv(\"BBC_News_Bias_Analysis.csv\", index=False, encoding='utf-8')\n",
    "\n",
    "print(\"Bias detection and analysis completed. Results saved to 'BBC_News_Bias_Analysis.csv'.\")"
   ]
  },
  {
   "cell_type": "code",
   "execution_count": null,
   "id": "405b0821",
   "metadata": {},
   "outputs": [],
   "source": [
    "# plot results\n",
    "import matplotlib.pyplot as plt\n",
    "\n",
    "# Make sure df is your DataFrame with 'summary bias value' and 'article bias value'\n",
    "# Example: df = pd.read_csv('your_data.csv')\n",
    "\n",
    "# Plotting the distribution of 'summary bias value' and 'article bias value'\n",
    "plt.figure(figsize=(10, 6))\n",
    "plt.hist(df['summary bias value'], bins=5, alpha=0.5, label='Summary Bias Value', color='blue')\n",
    "plt.hist(df['article bias value'], bins=5, alpha=0.5, label='Article Bias Value', color='orange')\n",
    "plt.xlabel('Bias Value')\n",
    "plt.ylabel('Frequency')\n",
    "plt.title('Distribution of Summary Bias Value and Article Bias Value')\n",
    "plt.legend(loc='upper right')\n",
    "plt.show()"
   ]
  }
 ],
 "metadata": {
  "kernelspec": {
   "display_name": "Python 3 (ipykernel)",
   "language": "python",
   "name": "python3"
  },
  "language_info": {
   "codemirror_mode": {
    "name": "ipython",
    "version": 3
   },
   "file_extension": ".py",
   "mimetype": "text/x-python",
   "name": "python",
   "nbconvert_exporter": "python",
   "pygments_lexer": "ipython3",
   "version": "3.9.12"
  }
 },
 "nbformat": 4,
 "nbformat_minor": 5
}
