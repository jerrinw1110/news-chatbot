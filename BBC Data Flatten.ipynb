{
 "cells": [
  {
   "cell_type": "code",
   "execution_count": 3,
   "id": "b32c06f0",
   "metadata": {},
   "outputs": [],
   "source": [
    "import os\n",
    "import pandas as pd"
   ]
  },
  {
   "cell_type": "code",
   "execution_count": 7,
   "id": "76cf3e27",
   "metadata": {},
   "outputs": [
    {
     "name": "stdout",
     "output_type": "stream",
     "text": [
      "Data successfully integrated and saved to 'BBC_News_Summary.csv'.\n"
     ]
    }
   ],
   "source": [
    "# Use the full path to your main folder\n",
    "main_folder = \"BBC News Summary\"  # Replace with the actual path\n",
    "news_folder = os.path.join(main_folder, \"News Articles\")\n",
    "summaries_folder = os.path.join(main_folder, \"Summaries\")\n",
    "topics = [\"business\", \"entertainment\", \"politics\", \"sport\", \"tech\"]\n",
    "\n",
    "# Initialize a list to store the data\n",
    "data = []\n",
    "\n",
    "# Loop through each topic and collect the article and summary content\n",
    "for topic in topics:\n",
    "    news_topic_folder = os.path.join(news_folder, topic)\n",
    "    summaries_topic_folder = os.path.join(summaries_folder, topic)\n",
    "    \n",
    "    # Loop through all .txt files in the topic folder\n",
    "    for file_name in os.listdir(news_topic_folder):\n",
    "        if file_name.endswith(\".txt\"):\n",
    "            # Read the original article content\n",
    "            with open(os.path.join(news_topic_folder, file_name), 'r',  encoding='latin-1') as file:\n",
    "                article_content = file.read()\n",
    "            \n",
    "            # Read the summary content\n",
    "            with open(os.path.join(summaries_topic_folder, file_name), 'r',  encoding='latin-1') as file:\n",
    "                summary_content = file.read()\n",
    "            \n",
    "            # Extract the article number (e.g., \"001\" from \"001.txt\")\n",
    "            article_number = file_name.split(\".\")[0]\n",
    "            \n",
    "            # Append the data to the list\n",
    "            data.append([article_content, summary_content, \"BBC\", topic, article_number])\n",
    "\n",
    "# Convert the data list to a DataFrame\n",
    "df = pd.DataFrame(data, columns=[\"Article\", \"Summary\", \"Source\", \"Topic\", \"Number\"])\n",
    "\n",
    "# Save the DataFrame to a CSV file\n",
    "df.to_csv(\"BBC_News_Summary.csv\", index=False, encoding='utf-8')\n",
    "\n",
    "print(\"Data successfully integrated and saved to 'BBC_News_Summary.csv'.\")"
   ]
  },
  {
   "cell_type": "code",
   "execution_count": 8,
   "id": "b634ba0d",
   "metadata": {},
   "outputs": [],
   "source": [
    "df = pd.read_csv('BBC_News_Summary.csv')"
   ]
  },
  {
   "cell_type": "code",
   "execution_count": 10,
   "id": "3b62fe79",
   "metadata": {},
   "outputs": [
    {
     "data": {
      "text/plain": [
       "(2225, 5)"
      ]
     },
     "execution_count": 10,
     "metadata": {},
     "output_type": "execute_result"
    }
   ],
   "source": [
    "df.shape"
   ]
  },
  {
   "cell_type": "code",
   "execution_count": 9,
   "id": "9d350e3f",
   "metadata": {},
   "outputs": [
    {
     "data": {
      "text/html": [
       "<div>\n",
       "<style scoped>\n",
       "    .dataframe tbody tr th:only-of-type {\n",
       "        vertical-align: middle;\n",
       "    }\n",
       "\n",
       "    .dataframe tbody tr th {\n",
       "        vertical-align: top;\n",
       "    }\n",
       "\n",
       "    .dataframe thead th {\n",
       "        text-align: right;\n",
       "    }\n",
       "</style>\n",
       "<table border=\"1\" class=\"dataframe\">\n",
       "  <thead>\n",
       "    <tr style=\"text-align: right;\">\n",
       "      <th></th>\n",
       "      <th>Article</th>\n",
       "      <th>Summary</th>\n",
       "      <th>Source</th>\n",
       "      <th>Topic</th>\n",
       "      <th>Number</th>\n",
       "    </tr>\n",
       "  </thead>\n",
       "  <tbody>\n",
       "    <tr>\n",
       "      <th>0</th>\n",
       "      <td>UK economy facing 'major risks'\\n\\nThe UK manu...</td>\n",
       "      <td>\"Despite some positive news for the export sec...</td>\n",
       "      <td>BBC</td>\n",
       "      <td>business</td>\n",
       "      <td>289</td>\n",
       "    </tr>\n",
       "    <tr>\n",
       "      <th>1</th>\n",
       "      <td>Aids and climate top Davos agenda\\n\\nClimate c...</td>\n",
       "      <td>At the same time, about 100,000 people are exp...</td>\n",
       "      <td>BBC</td>\n",
       "      <td>business</td>\n",
       "      <td>504</td>\n",
       "    </tr>\n",
       "    <tr>\n",
       "      <th>2</th>\n",
       "      <td>Asian quake hits European shares\\n\\nShares in ...</td>\n",
       "      <td>The unfolding scale of the disaster in south A...</td>\n",
       "      <td>BBC</td>\n",
       "      <td>business</td>\n",
       "      <td>262</td>\n",
       "    </tr>\n",
       "    <tr>\n",
       "      <th>3</th>\n",
       "      <td>India power shares jump on debut\\n\\nShares in ...</td>\n",
       "      <td>Shares in India's largest power producer, Nati...</td>\n",
       "      <td>BBC</td>\n",
       "      <td>business</td>\n",
       "      <td>276</td>\n",
       "    </tr>\n",
       "    <tr>\n",
       "      <th>4</th>\n",
       "      <td>Lacroix label bought by US firm\\n\\nLuxury good...</td>\n",
       "      <td>LVMH said the French designer's haute couture ...</td>\n",
       "      <td>BBC</td>\n",
       "      <td>business</td>\n",
       "      <td>510</td>\n",
       "    </tr>\n",
       "  </tbody>\n",
       "</table>\n",
       "</div>"
      ],
      "text/plain": [
       "                                             Article  \\\n",
       "0  UK economy facing 'major risks'\\n\\nThe UK manu...   \n",
       "1  Aids and climate top Davos agenda\\n\\nClimate c...   \n",
       "2  Asian quake hits European shares\\n\\nShares in ...   \n",
       "3  India power shares jump on debut\\n\\nShares in ...   \n",
       "4  Lacroix label bought by US firm\\n\\nLuxury good...   \n",
       "\n",
       "                                             Summary Source     Topic  Number  \n",
       "0  \"Despite some positive news for the export sec...    BBC  business     289  \n",
       "1  At the same time, about 100,000 people are exp...    BBC  business     504  \n",
       "2  The unfolding scale of the disaster in south A...    BBC  business     262  \n",
       "3  Shares in India's largest power producer, Nati...    BBC  business     276  \n",
       "4  LVMH said the French designer's haute couture ...    BBC  business     510  "
      ]
     },
     "execution_count": 9,
     "metadata": {},
     "output_type": "execute_result"
    }
   ],
   "source": [
    "df.head()"
   ]
  },
  {
   "cell_type": "code",
   "execution_count": null,
   "id": "47abb649",
   "metadata": {},
   "outputs": [],
   "source": []
  }
 ],
 "metadata": {
  "kernelspec": {
   "display_name": "Python 3 (ipykernel)",
   "language": "python",
   "name": "python3"
  },
  "language_info": {
   "codemirror_mode": {
    "name": "ipython",
    "version": 3
   },
   "file_extension": ".py",
   "mimetype": "text/x-python",
   "name": "python",
   "nbconvert_exporter": "python",
   "pygments_lexer": "ipython3",
   "version": "3.9.12"
  }
 },
 "nbformat": 4,
 "nbformat_minor": 5
}
